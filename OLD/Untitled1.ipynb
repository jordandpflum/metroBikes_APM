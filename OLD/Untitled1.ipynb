{
 "cells": [
  {
   "cell_type": "code",
   "execution_count": 9,
   "metadata": {},
   "outputs": [],
   "source": [
    "import pandas as pd\n",
    "from datetime import date, timedelta"
   ]
  },
  {
   "cell_type": "code",
   "execution_count": 14,
   "metadata": {},
   "outputs": [],
   "source": [
    "df_bikeshareTrips = pd.read_csv('Data/austin_bikeshare_trips.csv')"
   ]
  },
  {
   "cell_type": "code",
   "execution_count": 15,
   "metadata": {},
   "outputs": [],
   "source": [
    "df_bikeshareTrips['start_time'] = pd.to_datetime(df_bikeshareTrips['start_time'], format='%Y-%m-%d %H:%M:%S')\n",
    "df_bikeshareTrips['date'] = df_bikeshareTrips['start_time'].dt.date"
   ]
  },
  {
   "cell_type": "code",
   "execution_count": 16,
   "metadata": {},
   "outputs": [
    {
     "data": {
      "text/html": [
       "<div>\n",
       "<style scoped>\n",
       "    .dataframe tbody tr th:only-of-type {\n",
       "        vertical-align: middle;\n",
       "    }\n",
       "\n",
       "    .dataframe tbody tr th {\n",
       "        vertical-align: top;\n",
       "    }\n",
       "\n",
       "    .dataframe thead th {\n",
       "        text-align: right;\n",
       "    }\n",
       "</style>\n",
       "<table border=\"1\" class=\"dataframe\">\n",
       "  <thead>\n",
       "    <tr style=\"text-align: right;\">\n",
       "      <th></th>\n",
       "      <th>bikeid</th>\n",
       "      <th>checkout_time</th>\n",
       "      <th>duration_minutes</th>\n",
       "      <th>end_station_id</th>\n",
       "      <th>end_station_name</th>\n",
       "      <th>month</th>\n",
       "      <th>start_station_id</th>\n",
       "      <th>start_station_name</th>\n",
       "      <th>start_time</th>\n",
       "      <th>subscriber_type</th>\n",
       "      <th>trip_id</th>\n",
       "      <th>year</th>\n",
       "    </tr>\n",
       "  </thead>\n",
       "  <tbody>\n",
       "    <tr>\n",
       "      <th>0</th>\n",
       "      <td>8.0</td>\n",
       "      <td>19:12:00</td>\n",
       "      <td>41</td>\n",
       "      <td>2565.0</td>\n",
       "      <td>Trinity &amp; 6th Street</td>\n",
       "      <td>3.0</td>\n",
       "      <td>2536.0</td>\n",
       "      <td>Waller &amp; 6th St.</td>\n",
       "      <td>2015-03-19 19:12:00</td>\n",
       "      <td>Walk Up</td>\n",
       "      <td>9900082882</td>\n",
       "      <td>2015.0</td>\n",
       "    </tr>\n",
       "    <tr>\n",
       "      <th>1</th>\n",
       "      <td>141.0</td>\n",
       "      <td>2:06:04</td>\n",
       "      <td>6</td>\n",
       "      <td>2570.0</td>\n",
       "      <td>South Congress &amp; Academy</td>\n",
       "      <td>10.0</td>\n",
       "      <td>2494.0</td>\n",
       "      <td>2nd &amp; Congress</td>\n",
       "      <td>2016-10-30 02:06:04</td>\n",
       "      <td>Local365</td>\n",
       "      <td>12617682</td>\n",
       "      <td>2016.0</td>\n",
       "    </tr>\n",
       "    <tr>\n",
       "      <th>2</th>\n",
       "      <td>578.0</td>\n",
       "      <td>16:28:27</td>\n",
       "      <td>13</td>\n",
       "      <td>2498.0</td>\n",
       "      <td>Convention Center / 4th St. @ MetroRail</td>\n",
       "      <td>3.0</td>\n",
       "      <td>2538.0</td>\n",
       "      <td>Bullock Museum @ Congress &amp; MLK</td>\n",
       "      <td>2016-03-11 16:28:27</td>\n",
       "      <td>Local365</td>\n",
       "      <td>9075366</td>\n",
       "      <td>2016.0</td>\n",
       "    </tr>\n",
       "    <tr>\n",
       "      <th>3</th>\n",
       "      <td>555.0</td>\n",
       "      <td>15:12:00</td>\n",
       "      <td>80</td>\n",
       "      <td>2712.0</td>\n",
       "      <td>Toomey Rd @ South Lamar</td>\n",
       "      <td>11.0</td>\n",
       "      <td>2497.0</td>\n",
       "      <td>Capitol Station / Congress &amp; 11th</td>\n",
       "      <td>2014-11-23 15:12:00</td>\n",
       "      <td>24-Hour Kiosk (Austin B-cycle)</td>\n",
       "      <td>9900319298</td>\n",
       "      <td>2014.0</td>\n",
       "    </tr>\n",
       "    <tr>\n",
       "      <th>4</th>\n",
       "      <td>86.0</td>\n",
       "      <td>15:39:13</td>\n",
       "      <td>25</td>\n",
       "      <td>3377.0</td>\n",
       "      <td>MoPac Pedestrian Bridge @ Veterans Drive</td>\n",
       "      <td>4.0</td>\n",
       "      <td>2707.0</td>\n",
       "      <td>Rainey St @ Cummings</td>\n",
       "      <td>2017-04-16 15:39:13</td>\n",
       "      <td>Walk Up</td>\n",
       "      <td>14468597</td>\n",
       "      <td>2017.0</td>\n",
       "    </tr>\n",
       "  </tbody>\n",
       "</table>\n",
       "</div>"
      ],
      "text/plain": [
       "   bikeid checkout_time  duration_minutes  end_station_id  \\\n",
       "0     8.0      19:12:00                41          2565.0   \n",
       "1   141.0       2:06:04                 6          2570.0   \n",
       "2   578.0      16:28:27                13          2498.0   \n",
       "3   555.0      15:12:00                80          2712.0   \n",
       "4    86.0      15:39:13                25          3377.0   \n",
       "\n",
       "                           end_station_name  month  start_station_id  \\\n",
       "0                      Trinity & 6th Street    3.0            2536.0   \n",
       "1                  South Congress & Academy   10.0            2494.0   \n",
       "2   Convention Center / 4th St. @ MetroRail    3.0            2538.0   \n",
       "3                   Toomey Rd @ South Lamar   11.0            2497.0   \n",
       "4  MoPac Pedestrian Bridge @ Veterans Drive    4.0            2707.0   \n",
       "\n",
       "                  start_station_name           start_time  \\\n",
       "0                   Waller & 6th St.  2015-03-19 19:12:00   \n",
       "1                     2nd & Congress  2016-10-30 02:06:04   \n",
       "2    Bullock Museum @ Congress & MLK  2016-03-11 16:28:27   \n",
       "3  Capitol Station / Congress & 11th  2014-11-23 15:12:00   \n",
       "4               Rainey St @ Cummings  2017-04-16 15:39:13   \n",
       "\n",
       "                  subscriber_type     trip_id    year  \n",
       "0                         Walk Up  9900082882  2015.0  \n",
       "1                        Local365    12617682  2016.0  \n",
       "2                        Local365     9075366  2016.0  \n",
       "3  24-Hour Kiosk (Austin B-cycle)  9900319298  2014.0  \n",
       "4                         Walk Up    14468597  2017.0  "
      ]
     },
     "execution_count": 16,
     "metadata": {},
     "output_type": "execute_result"
    }
   ],
   "source": [
    "austin_bikeshare_trips_df.head()"
   ]
  },
  {
   "cell_type": "code",
   "execution_count": 25,
   "metadata": {},
   "outputs": [
    {
     "data": {
      "text/html": [
       "<div>\n",
       "<style scoped>\n",
       "    .dataframe tbody tr th:only-of-type {\n",
       "        vertical-align: middle;\n",
       "    }\n",
       "\n",
       "    .dataframe tbody tr th {\n",
       "        vertical-align: top;\n",
       "    }\n",
       "\n",
       "    .dataframe thead th {\n",
       "        text-align: right;\n",
       "    }\n",
       "</style>\n",
       "<table border=\"1\" class=\"dataframe\">\n",
       "  <thead>\n",
       "    <tr style=\"text-align: right;\">\n",
       "      <th></th>\n",
       "      <th>totalRides</th>\n",
       "    </tr>\n",
       "    <tr>\n",
       "      <th>date</th>\n",
       "      <th></th>\n",
       "    </tr>\n",
       "  </thead>\n",
       "  <tbody>\n",
       "    <tr>\n",
       "      <th>2013-12-21</th>\n",
       "      <td>103</td>\n",
       "    </tr>\n",
       "    <tr>\n",
       "      <th>2013-12-22</th>\n",
       "      <td>117</td>\n",
       "    </tr>\n",
       "    <tr>\n",
       "      <th>2013-12-23</th>\n",
       "      <td>96</td>\n",
       "    </tr>\n",
       "    <tr>\n",
       "      <th>2013-12-24</th>\n",
       "      <td>85</td>\n",
       "    </tr>\n",
       "    <tr>\n",
       "      <th>2013-12-25</th>\n",
       "      <td>145</td>\n",
       "    </tr>\n",
       "    <tr>\n",
       "      <th>...</th>\n",
       "      <td>...</td>\n",
       "    </tr>\n",
       "    <tr>\n",
       "      <th>2017-07-26</th>\n",
       "      <td>381</td>\n",
       "    </tr>\n",
       "    <tr>\n",
       "      <th>2017-07-27</th>\n",
       "      <td>370</td>\n",
       "    </tr>\n",
       "    <tr>\n",
       "      <th>2017-07-28</th>\n",
       "      <td>402</td>\n",
       "    </tr>\n",
       "    <tr>\n",
       "      <th>2017-07-29</th>\n",
       "      <td>425</td>\n",
       "    </tr>\n",
       "    <tr>\n",
       "      <th>2017-07-30</th>\n",
       "      <td>365</td>\n",
       "    </tr>\n",
       "  </tbody>\n",
       "</table>\n",
       "<p>1318 rows × 1 columns</p>\n",
       "</div>"
      ],
      "text/plain": [
       "            totalRides\n",
       "date                  \n",
       "2013-12-21         103\n",
       "2013-12-22         117\n",
       "2013-12-23          96\n",
       "2013-12-24          85\n",
       "2013-12-25         145\n",
       "...                ...\n",
       "2017-07-26         381\n",
       "2017-07-27         370\n",
       "2017-07-28         402\n",
       "2017-07-29         425\n",
       "2017-07-30         365\n",
       "\n",
       "[1318 rows x 1 columns]"
      ]
     },
     "execution_count": 25,
     "metadata": {},
     "output_type": "execute_result"
    }
   ],
   "source": [
    "INDEX_START_DATE = date(2013, 12, 21)\n",
    "INDEX_END_DATE  = date(2017, 7, 31)\n",
    "index = pd.date_range(INDEX_START_DATE, INDEX_END_DATE - timedelta(days=1), freq='d')\n",
    "tempDF = pd.DataFrame()\n",
    "tempDF['date'] = index\n",
    "tempDF['date'] = pd.to_datetime(tempDF['date']).dt.date\n",
    "\n",
    "df_bikeshareTrips = df_bikeshareTrips.copy()\n",
    "df_bikeshareTrips['date'] = df_bikeshareTrips['start_time'].dt.date\n",
    "\n",
    "merged = pd.merge(tempDF, df_bikeshareTrips, how='left', left_on='date', right_on='date')\n",
    "merged = merged.groupby(['date']).count()['bikeid'].reset_index()\n",
    "merged = merged.rename(columns={'bikeid': 'totalRides'})\n",
    "merged = merged.set_index('date')\n",
    "merged"
   ]
  },
  {
   "cell_type": "code",
   "execution_count": 26,
   "metadata": {},
   "outputs": [],
   "source": [
    "test = pd.read_csv('Data/data_features.csv')"
   ]
  },
  {
   "cell_type": "code",
   "execution_count": 33,
   "metadata": {},
   "outputs": [
    {
     "data": {
      "text/plain": [
       "Index(['date', 'isMonday', 'isTuesday', 'isWednesday', 'isThursday',\n",
       "       'isFriday', 'isSaturday', 'isSunday', 'isJanuary', 'isFebruary',\n",
       "       'isMarch', 'isApril', 'isMay', 'isJune', 'isJuly', 'isAugust',\n",
       "       'isSeptember', 'isOctober', 'isNovember', 'isDecember',\n",
       "       'SeaLevelPressureAvgInches_1DayWindow',\n",
       "       'SeaLevelPressureAvgInches_3DayWindow',\n",
       "       'SeaLevelPressureAvgInches_1WeekWindow',\n",
       "       'SeaLevelPressureAvgInches_1MonthWindow', 'crime_1DayWindow_50m',\n",
       "       'crime_3DayWindow_50m', 'crime_1WeekWindow_50m',\n",
       "       'crime_1MonthWindow_50m', 'crime_1DayWindow_100m',\n",
       "       'crime_3DayWindow_100m', 'crime_1WeekWindow_100m',\n",
       "       'crime_1MonthWindow_100m', 'crime_1DayWindow_250m',\n",
       "       'crime_3DayWindow_250m', 'crime_1WeekWindow_250m',\n",
       "       'crime_1MonthWindow_250m', 'crime_1DayWindow_500m',\n",
       "       'crime_3DayWindow_500m', 'crime_1WeekWindow_500m',\n",
       "       'crime_1MonthWindow_500m', 'averageRides_1DayWindow', 'totalRides',\n",
       "       'averageDuration_1DayWindow', 'averageRides_3DayWindow',\n",
       "       'averageDuration_3DayWindow', 'averageRides_7DayWindow',\n",
       "       'averageDuration_7DayWindow', 'averageRides_1MonthWindow',\n",
       "       'averageDuration_1MonthWindow'],\n",
       "      dtype='object')"
      ]
     },
     "execution_count": 33,
     "metadata": {},
     "output_type": "execute_result"
    }
   ],
   "source": [
    "test.columns"
   ]
  },
  {
   "cell_type": "code",
   "execution_count": 34,
   "metadata": {},
   "outputs": [
    {
     "data": {
      "text/plain": [
       "1135"
      ]
     },
     "execution_count": 34,
     "metadata": {},
     "output_type": "execute_result"
    }
   ],
   "source": [
    "len(test.dropna())"
   ]
  },
  {
   "cell_type": "code",
   "execution_count": 46,
   "metadata": {},
   "outputs": [
    {
     "data": {
      "text/plain": [
       "1135"
      ]
     },
     "execution_count": 46,
     "metadata": {},
     "output_type": "execute_result"
    }
   ],
   "source": [
    "len(test.dropna()['date'])"
   ]
  },
  {
   "cell_type": "code",
   "execution_count": null,
   "metadata": {},
   "outputs": [],
   "source": []
  }
 ],
 "metadata": {
  "kernelspec": {
   "display_name": "Python 3",
   "language": "python",
   "name": "python3"
  },
  "language_info": {
   "codemirror_mode": {
    "name": "ipython",
    "version": 3
   },
   "file_extension": ".py",
   "mimetype": "text/x-python",
   "name": "python",
   "nbconvert_exporter": "python",
   "pygments_lexer": "ipython3",
   "version": "3.8.3"
  }
 },
 "nbformat": 4,
 "nbformat_minor": 4
}
